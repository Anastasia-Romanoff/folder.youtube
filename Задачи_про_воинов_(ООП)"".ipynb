{
  "nbformat": 4,
  "nbformat_minor": 0,
  "metadata": {
    "colab": {
      "provenance": [],
      "include_colab_link": true
    },
    "kernelspec": {
      "name": "python3",
      "display_name": "Python 3"
    },
    "language_info": {
      "name": "python"
    }
  },
  "cells": [
    {
      "cell_type": "markdown",
      "metadata": {
        "id": "view-in-github",
        "colab_type": "text"
      },
      "source": [
        "<a href=\"https://colab.research.google.com/github/Anastasia-Romanoff/folder.youtube/blob/main/%D0%97%D0%B0%D0%B4%D0%B0%D1%87%D0%B8_%D0%BF%D1%80%D0%BE_%D0%B2%D0%BE%D0%B8%D0%BD%D0%BE%D0%B2_(%D0%9E%D0%9E%D0%9F)%22%22.ipynb\" target=\"_parent\"><img src=\"https://colab.research.google.com/assets/colab-badge.svg\" alt=\"Open In Colab\"/></a>"
      ]
    },
    {
      "cell_type": "markdown",
      "source": [
        "#ООП на Python: концепции, принципы и примеры реализации#\n",
        "\n",
        "* Объектно-ориентированная парадигма имеет несколько принципов:\n",
        "\n",
        "* Данные структурируются в виде объектов, каждый из которых имеет определенный тип, то есть принадлежит к какому-либо классу.\n",
        "\n",
        "* Классы – результат формализации решаемой задачи, выделения главных ее аспектов.\n",
        "\n",
        "* Внутри объекта инкапсулируется логика работы с относящейся к нему информацией.\n",
        "\n",
        "* Объекты в программе взаимодействуют друг с другом, обмениваются запросами и ответами.\n",
        "\n",
        "* При этом объекты одного типа сходным образом отвечают на одни и те же запросы.\n",
        "\n",
        "* Объекты могут организовываться в более сложные структуры, например, включать другие объекты или наследовать от одного или нескольких объектов.\n",
        "\n",
        "\n",
        "\n"
      ],
      "metadata": {
        "id": "qSug5IbdDQPt"
      }
    },
    {
      "cell_type": "markdown",
      "source": [
        "##Классы##\n",
        "\n",
        "Объявление класса:"
      ],
      "metadata": {
        "id": "CCuJyrJNDv3j"
      }
    },
    {
      "cell_type": "code",
      "source": [
        "class SomeClass(object):\n",
        "  # поля и методы класса SomeClass"
      ],
      "metadata": {
        "id": "f8EKj0DcDvPn"
      },
      "execution_count": null,
      "outputs": []
    },
    {
      "cell_type": "markdown",
      "source": [
        "Класс может наследоваться от других классов"
      ],
      "metadata": {
        "id": "3gjAjnc5D-zE"
      }
    },
    {
      "cell_type": "code",
      "execution_count": null,
      "metadata": {
        "id": "O4E_QW2KDDAk"
      },
      "outputs": [],
      "source": [
        "class SomeClass(ParentClass1, ParentClass2, …):\n",
        "  # поля и методы класса SomeClass"
      ]
    },
    {
      "cell_type": "markdown",
      "source": [
        "У класса могут быть свойства\n",
        "\n",
        "Способ 1"
      ],
      "metadata": {
        "id": "BCBaJObLEJ-S"
      }
    },
    {
      "cell_type": "code",
      "source": [
        "class SomeClass(object):\n",
        "    attr1 = 42\n",
        "    attr2 = \"Hello, World\""
      ],
      "metadata": {
        "id": "pR4GsobaERwh"
      },
      "execution_count": null,
      "outputs": []
    },
    {
      "cell_type": "markdown",
      "source": [
        "Способ 2"
      ],
      "metadata": {
        "id": "8E-gITIkE0nt"
      }
    },
    {
      "cell_type": "code",
      "source": [
        "class SomeClass(object):\n",
        "    def __init__(self):\n",
        "      self.attr1 = 42\n",
        "      self.attr2 = \"Hello, World\""
      ],
      "metadata": {
        "id": "LBRi91HoEhCe"
      },
      "execution_count": null,
      "outputs": []
    },
    {
      "cell_type": "markdown",
      "source": [
        "Методы объявляются как простые функции:"
      ],
      "metadata": {
        "id": "UpjM0IrREgwq"
      }
    },
    {
      "cell_type": "code",
      "source": [
        "class SomeClass(object):\n",
        "    def method1(self, x):\n",
        "        # код метода"
      ],
      "metadata": {
        "id": "k48b6cVtFBfs"
      },
      "execution_count": null,
      "outputs": []
    },
    {
      "cell_type": "markdown",
      "source": [
        "Обратите внимание на первый аргумент – self – общепринятое имя для ссылки на объект, в контексте которого вызывается метод. Этот параметр обязателен и отличает метод класса от обычной функции.\n",
        "\n",
        "Все пользовательские атрибуты сохраняются в атрибуте __dict__, который является словарем."
      ],
      "metadata": {
        "id": "MGQiPbVGETG0"
      }
    },
    {
      "cell_type": "markdown",
      "source": [
        "##Экземпляры классов##\n",
        "\n",
        "Объект  - это и есть эксземпляр класса"
      ],
      "metadata": {
        "id": "uXTknobJFNWV"
      }
    },
    {
      "cell_type": "code",
      "source": [
        "class SomeClass(object):\n",
        "    attr1 = 42\n",
        "\n",
        "    def method1(self, x):\n",
        "        return 2*x\n",
        "\n",
        "obj = SomeClass()\n",
        "obj.method1(6) # 12\n",
        "obj.attr1 # 42"
      ],
      "metadata": {
        "id": "LvDSWwJLFVNo"
      },
      "execution_count": null,
      "outputs": []
    },
    {
      "cell_type": "markdown",
      "source": [
        "Можно создавать разные инстансы одного класса с заранее заданными параметрами с помощью инициализатора (специальный метод __init__). Для примера возьмем класс Point (точка пространства), объекты которого должны иметь определенные координаты:"
      ],
      "metadata": {
        "id": "8x0xCRp9FmdE"
      }
    },
    {
      "cell_type": "code",
      "source": [
        "class Point(object):\n",
        "    def __init__(self, x, y, z):\n",
        "        self.coord = (x, y, z)\n",
        "\n",
        "p = Point(13, 14, 15)\n",
        "p.coord # (13, 14, 15)"
      ],
      "metadata": {
        "id": "5nXSO4OzFqu8"
      },
      "execution_count": null,
      "outputs": []
    },
    {
      "cell_type": "markdown",
      "source": [
        "##Динамическое изменение"
      ],
      "metadata": {
        "id": "zNMvXaI7FuA_"
      }
    },
    {
      "cell_type": "code",
      "source": [
        "class SomeClass(object):\n",
        "    pass"
      ],
      "metadata": {
        "id": "x2Lvs-D-Fy0T"
      },
      "execution_count": null,
      "outputs": []
    },
    {
      "cell_type": "markdown",
      "source": [
        " Классы в Python могут динамически изменяться после определения:"
      ],
      "metadata": {
        "id": "TOr4F-8GGJMI"
      }
    },
    {
      "cell_type": "code",
      "source": [
        "class SomeClass(object):\n",
        "    pass\n",
        "\n",
        "def squareMethod(self, x):\n",
        "    return x*x\n",
        "\n",
        "SomeClass.square = squareMethod\n",
        "obj = SomeClass()\n",
        "obj.square(5) # 25"
      ],
      "metadata": {
        "id": "KE13Enj5GPDF"
      },
      "execution_count": null,
      "outputs": []
    },
    {
      "cell_type": "markdown",
      "source": [
        "##Статические и классовые методы##\n",
        "\n",
        "Для создания статических методов в Python предназначен декоратор @staticmethod. У них нет обязательных параметров-ссылок вроде self. Доступ к таким методам можно получить как из экземпляра класса, так и из самого  класса:"
      ],
      "metadata": {
        "id": "cY6TvslZGHtP"
      }
    },
    {
      "cell_type": "code",
      "source": [
        "class SomeClass(object):\n",
        "    @staticmethod\n",
        "    def hello():\n",
        "        print(\"Hello, world\")\n",
        "\n",
        "SomeClass.hello() # Hello, world\n",
        "obj = SomeClass()\n",
        "obj.hello() # Hello, world"
      ],
      "metadata": {
        "id": "52KNJ__BGfrg"
      },
      "execution_count": null,
      "outputs": []
    },
    {
      "cell_type": "markdown",
      "source": [
        "Еще есть так называемые методы классов. Они аналогичны методам экземпляров, но выполняются не в контексте объекта, а в контексте самого класса  (классы – это тоже объекты). Такие методы создаются с помощью декоратора @classmethod и требуют обязательную ссылку на класс (cls)."
      ],
      "metadata": {
        "id": "lvzwNTDGGcix"
      }
    },
    {
      "cell_type": "code",
      "source": [
        "class SomeClass(object):\n",
        "    @classmethod\n",
        "    def hello(cls):\n",
        "        print('Hello, класс {}'.format(cls.__name__))\n",
        "\n",
        "SomeClass.hello() # Hello, класс SomeClass"
      ],
      "metadata": {
        "id": "7orZksUmGsvz"
      },
      "execution_count": null,
      "outputs": []
    },
    {
      "cell_type": "markdown",
      "source": [
        "##Специальные методы##\n",
        "###Жизненный цикл объекта###\n",
        "С инициализатором объектов __init__ вы уже знакомы. Кроме него есть еще и метод __new__, который непосредственно создает новый экземпляр класса. Первым параметром он принимает ссылку на сам класс:\n"
      ],
      "metadata": {
        "id": "DCKDXSUrGwN1"
      }
    },
    {
      "cell_type": "code",
      "source": [
        "class SomeClass(object):\n",
        "    def __new__(cls):\n",
        "        print(\"new\")\n",
        "        return super(SomeClass, cls).__new__(cls)\n",
        "\n",
        "    def __init__(self):\n",
        "        print(\"init\")\n",
        "\n",
        "obj = SomeClass();\n",
        "# new\n",
        "# init"
      ],
      "metadata": {
        "id": "c3YzVKznG7pv"
      },
      "execution_count": null,
      "outputs": []
    },
    {
      "cell_type": "markdown",
      "source": [
        "Метод __new__ может быть очень полезен для решения ряда задач, например, создания иммутабельных объектов или реализации паттерна Синглтон:\n",
        "\n",
        "*Иммутабельность предполагает, что после создания данные или структура, которая их содержит, не могут быть изменены*"
      ],
      "metadata": {
        "id": "Ykad3oxxHDAd"
      }
    },
    {
      "cell_type": "code",
      "source": [
        "class Singleton(object):\n",
        "    obj = None # единственный экземпляр класса\n",
        "\n",
        "    def __new__(cls, *args, **kwargs):\n",
        "      if cls.obj is None:\n",
        "          cls.obj = object.__new__(cls, *args, **kwargs)\n",
        "      return cls.obj\n",
        "\n",
        "single = Singleton()\n",
        "single.attr = 42\n",
        "newSingle = Singleton()\n",
        "newSingle.attr # 42\n",
        "newSingle is single # true"
      ],
      "metadata": {
        "id": "NGq1UYHSHY05"
      },
      "execution_count": null,
      "outputs": []
    },
    {
      "cell_type": "markdown",
      "source": [
        "###Удаление объекта###"
      ],
      "metadata": {
        "id": "bs0OZLlYHawX"
      }
    },
    {
      "cell_type": "code",
      "source": [
        "class SomeClass(object):\n",
        "    def __init__(self, name):\n",
        "        self.name = name\n",
        "\n",
        "    def __del__(self):\n",
        "        print('удаляется объект {} класса SomeClass'.format(self.name))\n",
        "\n",
        "obj = SomeClass(\"John\");\n",
        "del obj # удаляется объект John класса SomeClass"
      ],
      "metadata": {
        "id": "Y0Px5IjNHlVs"
      },
      "execution_count": null,
      "outputs": []
    },
    {
      "cell_type": "markdown",
      "source": [
        "На практике деструктор используется редко, в основном для тех ресурсов, которые требуют явного освобождения памяти при удалении объекта. Не следует совершать в нем сложные вычисления."
      ],
      "metadata": {
        "id": "qil88H_DHqJb"
      }
    },
    {
      "cell_type": "markdown",
      "source": [
        "###Объект как функция###\n",
        "Объект класса может имитировать стандартную функцию, то есть при желании его можно \"вызвать\" с параметрами. За эту возможность отвечает специальный метод __call__:"
      ],
      "metadata": {
        "id": "wLFOUBCoHt88"
      }
    },
    {
      "cell_type": "code",
      "source": [
        "class Multiplier:\n",
        "    def __call__(self, x, y):\n",
        "        return x*y\n",
        "\n",
        "multiply = Multiplier()\n",
        "multiply(19, 19) # 361\n",
        "# то же самое\n",
        "multiply.__call__(19, 19) # 361"
      ],
      "metadata": {
        "id": "ELKKs-73H5tQ"
      },
      "execution_count": null,
      "outputs": []
    },
    {
      "cell_type": "markdown",
      "source": [
        "###Имитация контейнеров###"
      ],
      "metadata": {
        "id": "7y8uLhpEH6i2"
      }
    },
    {
      "cell_type": "code",
      "source": [
        "class Collection:\n",
        "    def __init__(self, list):\n",
        "        self.list = list\n",
        "\n",
        "    def __len__(self):\n",
        "        return len(self.list)\n",
        "\n",
        "collection = Collection([1, 2, 3])\n",
        "len(collection) # 3"
      ],
      "metadata": {
        "id": "pSlt3wf9IEgI"
      },
      "execution_count": null,
      "outputs": []
    },
    {
      "cell_type": "markdown",
      "source": [
        "Можно работать с объектом как с коллекцией значений, определив для него интерфейс классического списка с помощью специальных методов:\n",
        "\n",
        "* __getItem__ – реализация синтаксиса obj[key], получение значения по ключу;\n",
        "* __setItem__ – установка значения для ключа;\n",
        "* __delItem__ – удаление значения;\n",
        "* __contains__ – проверка наличия значения"
      ],
      "metadata": {
        "id": "_9hZV6GAIKkn"
      }
    },
    {
      "cell_type": "markdown",
      "source": [
        "###Имитация числовых типов###\n",
        "Ваши объекты могут участвовать в математических операциях, если у них определены  специальные методы. Например, __mul__ позволяет умножать объект на число по определенной программистом логике:"
      ],
      "metadata": {
        "id": "zZagn4r9ISG-"
      }
    },
    {
      "cell_type": "code",
      "source": [
        "class SomeClass:\n",
        "    def __init__(self, value):\n",
        "        self.value = value\n",
        "\n",
        "    def __mul__(self, number):\n",
        "        return self.value*number\n",
        "\n",
        "obj = SomeClass(42)\n",
        "print(obj * 100) # 4200"
      ],
      "metadata": {
        "id": "nPwWnDikIX0Y"
      },
      "execution_count": null,
      "outputs": []
    },
    {
      "cell_type": "markdown",
      "source": [
        "Другие специальные методы:\n",
        "\n",
        "* object.__add__(self, other)\n",
        "* object.__sub__(self, other)\n",
        "* object.__mul__(self, other)\n",
        "* object.__matmul__(self, other)\n",
        "* object.__truediv__(self, other)\n",
        "* object.__floordiv__(self, other)\n",
        "* object.__mod__(self, other)\n",
        "* object.__divmod__(self, other)\n",
        "* object.__pow__(self, other[, modulo])\n",
        "* object.__lshift__(self, other)\n",
        "* object.__rshift__(self, other)\n",
        "* object.__and__(self, other)\n",
        "* object.__xor__(self, other)\n",
        "* object.__or__(self, other)\n",
        "\n",
        "https://docs.python.org/3.7/reference/datamodel.html?highlight=getitem#special-method-names"
      ],
      "metadata": {
        "id": "dp16fBvAIdKo"
      }
    },
    {
      "cell_type": "markdown",
      "source": [
        "##Принципы ООП##\n",
        "\n",
        "###Инкапсуляция###\n",
        "\n",
        "> Инкапсуля́ция (лат. in capsula; от capsula «коробочка») — размещение в оболочке, изоляция, закрытие чего-либо инородного с целью исключения влияния на окружающее. Например, поместить радиоактивные отходы в капсулу, закрыть кожухом механизм, убрать мешающее в ящик или шкаф.\n",
        "> Инкапсуляция (англ. encapsulation, от лат. in capsula) — в информатике, процесс разделения элементов абстракций, определяющих её структуру (данные) и поведение (методы); инкапсуляция предназначена для изоляции контрактных обязательств абстракции (протокол/интерфейс) от их реализации. На практике это означает, что класс должен состоять из двух частей: интерфейса и реализации. В реализации большинства языков программирования (C++, C#, Java и другие) обеспечивается механизм сокрытия, позволяющий разграничивать доступ к различным частям компонента.\n",
        "\n",
        "\n",
        "Все объекты в Python инкапсулируют внутри себя данные и методы работы с ними, предоставляя публичные интерфейсы для взаимодействия.\n",
        "\n",
        "Атрибут может быть объявлен приватным (внутренним) с помощью нижнего подчеркивания перед именем, но настоящего скрытия на самом деле не происходит – все на уровне соглашений."
      ],
      "metadata": {
        "id": "RVSmjFvaI-X8"
      }
    },
    {
      "cell_type": "code",
      "source": [
        "class SomeClass:\n",
        "    def _private(self):\n",
        "        print(\"Это внутренний метод объекта\")\n",
        "\n",
        "obj = SomeClass()\n",
        "obj._private() # это внутренний метод объекта"
      ],
      "metadata": {
        "id": "Zfkk9mCKJtE2"
      },
      "execution_count": null,
      "outputs": []
    },
    {
      "cell_type": "markdown",
      "source": [
        "Если поставить перед именем атрибута два подчеркивания, к нему нельзя будет обратиться напрямую. Но все равно остается обходной путь:"
      ],
      "metadata": {
        "id": "Rrwyt4HoJtvC"
      }
    },
    {
      "cell_type": "code",
      "source": [
        "class SomeClass():\n",
        "    def __init__(self):\n",
        "        self.__param = 42 # защищенный атрибут\n",
        "\n",
        "obj = SomeClass()\n",
        "obj.__param # AttributeError: 'SomeClass' object has no attribute '__param'\n",
        "obj._SomeClass__param # 42"
      ],
      "metadata": {
        "id": "rZnHmdh4JwxO"
      },
      "execution_count": null,
      "outputs": []
    },
    {
      "cell_type": "markdown",
      "source": [
        "Кроме прямого доступа к атрибутам (obj.attrName), могут быть использованы специальные методы доступа (геттеры, сеттеры и деструкторы):"
      ],
      "metadata": {
        "id": "-HAWFe3wJ2Es"
      }
    },
    {
      "cell_type": "code",
      "source": [
        "class SomeClass():\n",
        "    def __init__(self, value):\n",
        "        self._value = value\n",
        "\n",
        "    def getvalue(self): # получение значения атрибута\n",
        "        return self._value\n",
        "\n",
        "    def setvalue(self, value): # установка значения атрибута\n",
        "        self._value = value\n",
        "\n",
        "    def delvalue(self): # удаление атрибута\n",
        "        del self._value\n",
        "\n",
        "    value = property(getvalue, setvalue, delvalue, \"Свойство value\")\n",
        "\n",
        "obj = SomeClass(42)\n",
        "print(obj.value)\n",
        "obj.value = 43"
      ],
      "metadata": {
        "id": "5gYLmgK-J4gs"
      },
      "execution_count": null,
      "outputs": []
    },
    {
      "cell_type": "markdown",
      "source": [
        "Такой подход очень удобен, если получение или установка значения атрибута требует сложной логики.\n",
        "\n",
        "Вместо того чтобы вручную создавать геттеры и сеттеры для каждого атрибута, можно перегрузить встроенные методы __getattr__, __setattr__ и __delattr__. Например, так можно перехватить обращение к свойствам и методам, которых в объекте не существует:"
      ],
      "metadata": {
        "id": "HoStjyvUJ6Z3"
      }
    },
    {
      "cell_type": "code",
      "source": [
        "class SomeClass():\n",
        "    attr1 = 42\n",
        "\n",
        "    def __getattr__(self, attr):\n",
        "        return attr.upper()\n",
        "\n",
        "obj = SomeClass()\n",
        "obj.attr1 # 42 &nbsp;&nbsp;\n",
        "obj.attr2 # ATTR2"
      ],
      "metadata": {
        "id": "i9nG7QedKAkw"
      },
      "execution_count": null,
      "outputs": []
    },
    {
      "cell_type": "markdown",
      "source": [
        "'____getattribute____' перехватывает все обращения (в том числе и к существующим атрибутам):"
      ],
      "metadata": {
        "id": "v7l9i2ibKDWC"
      }
    },
    {
      "cell_type": "code",
      "source": [
        "class SomeClass():\n",
        "    attr1 = 42\n",
        "\n",
        "    def __getattribute__(self, attr):\n",
        "        return attr.upper()\n",
        "\n",
        "obj = SomeClass()\n",
        "obj.attr1 # ATTR1\n",
        "obj.attr2 # ATTR2"
      ],
      "metadata": {
        "id": "XcVwf3WMKGpL"
      },
      "execution_count": null,
      "outputs": []
    },
    {
      "cell_type": "markdown",
      "source": [
        "###Наследование###\n",
        "одиночное наследование:"
      ],
      "metadata": {
        "id": "fTNF6CQ0KFm9"
      }
    },
    {
      "cell_type": "code",
      "source": [
        "class Mammal():\n",
        "    className = 'Mammal'\n",
        "\n",
        "class Dog(Mammal):\n",
        "    species = 'Canis lupus'\n",
        "\n",
        "dog = Dog()\n",
        "dog.className # Mammal"
      ],
      "metadata": {
        "id": "0a0ySPBxKgbV"
      },
      "execution_count": null,
      "outputs": []
    },
    {
      "cell_type": "markdown",
      "source": [
        "множественное:"
      ],
      "metadata": {
        "id": "yiZEaEjBKhGK"
      }
    },
    {
      "cell_type": "code",
      "source": [
        "class Horse():\n",
        "    isHorse = True\n",
        "\n",
        "class Donkey():\n",
        "    isDonkey = True\n",
        "\n",
        "class Mule(Horse, Donkey):\n",
        "mule = Mule()\n",
        "mule.isHorse # True\n",
        "mule.isDonkey # True"
      ],
      "metadata": {
        "id": "zXzNPuj7KkJr"
      },
      "execution_count": null,
      "outputs": []
    },
    {
      "cell_type": "markdown",
      "source": [
        "###Ассоциация###\n",
        "ассоциация (агрегация или композиция), при которой один класс является полем другого."
      ],
      "metadata": {
        "id": "0-zXl4FAKrOK"
      }
    },
    {
      "cell_type": "code",
      "source": [
        "class Salary:\n",
        "    def __init__(self,pay):\n",
        "        self.pay = pay\n",
        "\n",
        "    def getTotal(self):\n",
        "        return (self.pay*12)\n",
        "\n",
        "class Employee:\n",
        "    def __init__(self,pay,bonus):\n",
        "        self.pay = pay\n",
        "        self.bonus = bonus\n",
        "        self.salary = Salary(self.pay)  #<-------\n",
        "\n",
        "    def annualSalary(self):\n",
        "        return \"Total: \" + str(self.salary.getTotal() + self.bonus)\n",
        "\n",
        "employee = Employee(100,10)\n",
        "print(employee.annualSalary())"
      ],
      "metadata": {
        "id": "Bnqc9Te7KzF2"
      },
      "execution_count": null,
      "outputs": []
    },
    {
      "cell_type": "markdown",
      "source": [
        "###Полиморфизм###\n",
        "Все методы в языке изначально виртуальные. Это значит, что дочерние классы могут их переопределять и решать одну и ту же задачу разными путями, а конкретная реализация будет выбрана только во время исполнения программы. Такие классы называют полиморфными."
      ],
      "metadata": {
        "id": "9ADmfyIwLFUG"
      }
    },
    {
      "cell_type": "code",
      "source": [
        "class Mammal:\n",
        "    def move(self):\n",
        "        print('Двигается')\n",
        "\n",
        "class Hare(Mammal):\n",
        "    def move(self):\n",
        "        print('Прыгает')\n",
        "\n",
        "animal = Mammal()\n",
        "animal.move() # Двигается\n",
        "hare = Hare()\n",
        "hare.move() # Прыгает"
      ],
      "metadata": {
        "id": "udWCnYxELMRB"
      },
      "execution_count": null,
      "outputs": []
    },
    {
      "cell_type": "markdown",
      "source": [
        " можно получить и доступ к методам класса-предка либо по прямому обращению, либо с помощью функции super:"
      ],
      "metadata": {
        "id": "lTyKMKLxLQHs"
      }
    },
    {
      "cell_type": "code",
      "source": [
        "class Parent():\n",
        "    def __init__(self):\n",
        "        print('Parent init')\n",
        "\n",
        "    def method(self):\n",
        "        print('Parent method')\n",
        "\n",
        "class Child(Parent):\n",
        "    def __init__(self):\n",
        "        Parent.__init__(self)\n",
        "\n",
        "    def method(self):\n",
        "        super(Child, self).method()\n",
        "\n",
        "child = Child() # Parent init\n",
        "child.\n",
        "method() # Parent method"
      ],
      "metadata": {
        "id": "El8IGMF_LWxu"
      },
      "execution_count": null,
      "outputs": []
    },
    {
      "cell_type": "markdown",
      "source": [
        "Одинаковый интерфейс с разной реализацией могут иметь и классы, не связанные родственными узами. В следующем примере код может одинаково удобно работать с классами English и French, так как они обладают одинаковым интерфейсом:"
      ],
      "metadata": {
        "id": "ZilgC2EKLV-Q"
      }
    },
    {
      "cell_type": "code",
      "source": [
        "class English:\n",
        "  def greeting(self):\n",
        "    print (\"Hello\")\n",
        "\n",
        "class French:\n",
        "  def greeting(self):\n",
        "    print (\"Bonjour\")\n",
        "\n",
        "def intro(language):\n",
        "  language.greeting()\n",
        "\n",
        "john = English()\n",
        "gerard = French()\n",
        "intro(john) # Hello\n",
        "intro(gerard) # Bonjour"
      ],
      "metadata": {
        "id": "vjLqMyYwLgUX"
      },
      "execution_count": null,
      "outputs": []
    },
    {
      "cell_type": "markdown",
      "source": [
        "##Порядок разрешения доступа к атрибутам##\n",
        "\n",
        "Складывается достаточно интересная картина: у одного объекта может быть несколько родительских классов, а также специальные методы вроде `__getattribute__`, которые перехватывают запросы к атрибутам.\n",
        "\n",
        "Каким же образом интерпретатор разрешает сложные запросы к свойствам и методам? Рассмотрим последовательность поиска на примере запроса `obj.field`:\n",
        "\n",
        "* Вызов `obj.__getattribute__('field')`, если он определен. При установке или удалении атрибута проверяется соответственно наличие `__setattr__` или `__delattr__`.\n",
        "\n",
        "* Поиск в `obj.__dict__` (пользовательские атрибуты).\n",
        "\n",
        "* Поиск в `object.__class__.__slots__`.\n",
        "\n",
        "* Рекурсивный поиск в поле `__dict__` всех родительских классов. Если класс имеет несколько предков, порядок проверки соответствует порядку их перечисления в определении.\n",
        "\n",
        "* Если определен метод `__getattr__`, то происходит вызов `obj.__getattr__('field')`\n",
        "\n",
        "* Выбрасывается исключение несуществующего атрибута – AttributeError.\n",
        "Наконец, когда атрибут нашелся, проверяется наличие метода `__get__` (при установке – `__set__`, при удалении – `__delete__`).\n",
        "\n",
        "\n",
        "Все эти проверки совершаются только для пользовательских атрибутов."
      ],
      "metadata": {
        "id": "EYA9978IL7Qj"
      }
    },
    {
      "cell_type": "markdown",
      "source": [],
      "metadata": {
        "id": "uCs_gVSMPDuF"
      }
    },
    {
      "cell_type": "markdown",
      "source": [
        "#Вишенка на торте#\n",
        "Style Guide for Python Code https://peps.python.org/pep-0008/\n",
        "\n",
        "Все наши классы и методы должны быть описаны согласно правилам ведения документации PEP-287 - reStructuredText https://sphinx-ru.readthedocs.io/ru/latest/rst-markup.html\n",
        "\n",
        "\n"
      ],
      "metadata": {
        "id": "_6VOCL3A0Jqa"
      }
    },
    {
      "cell_type": "markdown",
      "source": [
        "#Задачи для закрепления материала#"
      ],
      "metadata": {
        "id": "qzdvWTlUQhU0"
      }
    },
    {
      "cell_type": "markdown",
      "source": [
        "**Задача 1**\n",
        "\n",
        "Создайте класс StringVar для работы со строковым типом данных,\n",
        "содержащий методы set() и get(). Метод set() служит для изменения\n",
        "содержимого строки, get() – для получения содержимого строки. Создайте\n",
        "объект типа StringVar и протестируйте его методы.\n",
        "\n"
      ],
      "metadata": {
        "id": "2B61GRQgQLmI"
      }
    },
    {
      "cell_type": "code",
      "source": [
        "class StringVar:\n",
        "    def __init__(self, first_str=\"\"):\n",
        "        self._str = first_str\n",
        "    def set(self, new_str):\n",
        "        self._str = new_str\n",
        "    def get(self):\n",
        "        return self._str\n",
        "if __name__ == \"__main__\":\n",
        "    my_str = StringVar(\"HI\")\n",
        "    print(my_str.get())\n",
        "    my_str.set(\"Hello\")\n",
        "    print(my_str.get())\n",
        "\n",
        "\n",
        "\n",
        "\n",
        "\n",
        "\n",
        "\n"
      ],
      "metadata": {
        "id": "VhwR2w6cQWvh",
        "outputId": "c3eea3d0-0bc3-42c7-d101-fc77aa8b38cb",
        "colab": {
          "base_uri": "https://localhost:8080/"
        }
      },
      "execution_count": null,
      "outputs": [
        {
          "output_type": "stream",
          "name": "stdout",
          "text": [
            "HI\n",
            "Hello\n"
          ]
        }
      ]
    },
    {
      "cell_type": "markdown",
      "source": [
        "**Задача 2.**\n",
        "\n",
        "Создайте класс точка Point, позволяющий работать с координатами (x, y).\n",
        "Добавьте необходимые методы класса."
      ],
      "metadata": {
        "id": "gI75aWfGQXRY"
      }
    },
    {
      "cell_type": "code",
      "source": [
        "class Point:\n",
        "  def __init__(self, x_value = 0, y_value = 0):\n",
        "    self.x_value = x_value\n",
        "    self.y_value = y_value\n",
        "  def reposition(self):\n",
        "    self.x_value,self.y_value = self.y_value,self.x_value\n",
        "  def __str__(self):\n",
        "    return f\"Point({self.x_value},{self.y_value})\"\n",
        "  def negative(self):\n",
        "    self.x_value = - self.x_value\n",
        "    self.y_value = - self.y_value\n",
        "if __name__ == \"__main__\":\n",
        "  point1 = Point(1,5)\n",
        "  point1.reposition()\n",
        "  print(f\"{point1}\")\n",
        "  point1.negative()\n",
        "  print(f\"{point1}\")\n"
      ],
      "metadata": {
        "id": "0f4E62jrQX9_",
        "outputId": "7f908152-73c9-4662-e013-7bbc1f274250",
        "colab": {
          "base_uri": "https://localhost:8080/"
        }
      },
      "execution_count": null,
      "outputs": [
        {
          "output_type": "stream",
          "name": "stdout",
          "text": [
            "Point(5,1)\n",
            "Point(-5,-1)\n"
          ]
        }
      ]
    },
    {
      "cell_type": "markdown",
      "source": [
        "\n",
        "\n",
        "**Задача 3. (1 балл)**\n",
        "\n",
        "Есть класс \"Воин\". Отнего создаются два экземпляра-юнита. Каждому устанавливается здоровье в 100 очков. В случайном порядке они бьют друг друга. Тот, кто бьет, здоровья не теряет. У того, кого бьют, оно уменьшается на 20 очков от одного удара. После каждого удара надо выводить сообщение, какой юнит\n",
        "атаковал, и сколько у противника осталось здоровья. Как только у кого-то\n",
        "заканчивается ресурс здоровья, программа завершается сообщением о том,\n",
        "кто одержал победу.\n"
      ],
      "metadata": {
        "id": "FF_aRzW4M5eA"
      }
    },
    {
      "cell_type": "code",
      "source": [
        "import random\n",
        "\n",
        "class Voin:\n",
        "    def __init__(self, name):\n",
        "        self.name = name\n",
        "        self.health = 100\n",
        "\n",
        "    def attack(self, enemy):\n",
        "        enemy.health -= 20\n",
        "        print(f'{self.name} атакует {enemy.name}!')\n",
        "        print(f'Здоровье {enemy.name}: {enemy.health}')\n",
        "\n",
        "def fight(player_1, player_2):\n",
        "    while player_1.health > 0 and player_2.health > 0:\n",
        "        attacker = random.choice([player_1, player_2])\n",
        "        defender = player_1 if attacker is player_2 else player_2\n",
        "        attacker.attack(defender)\n",
        "\n",
        "\n",
        "\n",
        "    if player_1.health <= 0:\n",
        "        print(f'{player_2.name} одержал победу!')\n",
        "    else:\n",
        "        print(f'{player_1.name} одержал победу!')\n",
        "\n",
        "player_1 = Voin(\"Воин 1\")\n",
        "player_2 = Voin(\"Воин 2\")\n",
        "\n",
        "fight(player_1, player_2)\n",
        "\n",
        "\n",
        "\n"
      ],
      "metadata": {
        "id": "EXmdArTSNLHC",
        "colab": {
          "base_uri": "https://localhost:8080/"
        },
        "outputId": "9b1839be-e7a1-4f04-c85a-af5ea435360e"
      },
      "execution_count": null,
      "outputs": [
        {
          "output_type": "stream",
          "name": "stdout",
          "text": [
            "Воин 2 атакует Воин 1!\n",
            "Здоровье Воин 1: 80\n",
            "Воин 2 атакует Воин 1!\n",
            "Здоровье Воин 1: 60\n",
            "Воин 1 атакует Воин 2!\n",
            "Здоровье Воин 2: 80\n",
            "Воин 2 атакует Воин 1!\n",
            "Здоровье Воин 1: 40\n",
            "Воин 2 атакует Воин 1!\n",
            "Здоровье Воин 1: 20\n",
            "Воин 1 атакует Воин 2!\n",
            "Здоровье Воин 2: 60\n",
            "Воин 2 атакует Воин 1!\n",
            "Здоровье Воин 1: 0\n",
            "Воин 2 одержал победу!\n"
          ]
        }
      ]
    },
    {
      "cell_type": "markdown",
      "source": [
        "**Задача 4. (4 балла)**\n",
        "\n",
        "Модификация задачи 1.\n",
        "\n",
        "Теперь у воинов есть 2 метода. Защищаться и атаковать. Есть очки\n",
        "здоровья, очки брони и очки выносливости.\n",
        "На каждом шаге каждый воин атакует или защищается. Когда воин\n",
        "атакует, он теряет 10 очков выносливости.\n",
        "Когда воин защищается, а его атакуют, он теряет очки здоровья\n",
        "(random(0,20)) и очки брони (random(0,10)). Когда оба воина атакуют, они\n",
        "оба теряют очки здоровья (random(10,30)) и выносливости. Если оба воина\n",
        "защищаются, они не теряют очков.\n",
        "\n",
        "- Когда очки брони кончаются, защищающийся воин теряет только очки\n",
        "здоровья (random(10,30)).\n",
        "\n",
        "- Когда очки выносливости закончатся, воин наносит меньше урона\n",
        "random(0,10).\n",
        "\n",
        "- На каждом ходе решение защищаться или атаковать принимается\n",
        "случайным образом.\n",
        "\n",
        "- Проигрывает тот воин, у которого первым осталось 10 единиц здоровья.\n",
        "\n",
        "- Тогда (как в Колизее) у пользователя спрашивают убить его, или нет.\n",
        "pollice verso\n",
        "\n",
        "\n",
        "Пример:\n",
        "\n",
        "1: атака 2: атака\n",
        "\n",
        "health_1 -= random(10,30)\n",
        "\n",
        "health_2 -= random(10,30)\n",
        "\n",
        "end_1 -= 10\n",
        "end_2 -= 10\n",
        "\n",
        "1: атака 2: защита\n",
        "\n",
        "end_1 -= 10 health_2 -=random(0,20)\n",
        "\n",
        "armor_2 -= random(0,10)"
      ],
      "metadata": {
        "id": "KbZPpfK4NLl2"
      }
    },
    {
      "cell_type": "code",
      "source": [
        "import random\n",
        "class Voin:\n",
        "    def __init__(self, name):\n",
        "        self.name = name\n",
        "        self.health = 100\n",
        "        self.armor = 100\n",
        "        self.stamina = 100\n",
        "        self.dead = False\n",
        "\n",
        "    def attack(self, enemy):\n",
        "        if self.stamina >= 10:\n",
        "          self.stamina -= 10\n",
        "          uron = random.randint(10,30) if self.stamina > 0 else random.randint(0,10)\n",
        "          if enemy.armor > 0:\n",
        "            enemy.armor -= random.randint(0,10)\n",
        "            enemy.health -= uron\n",
        "            if enemy.health <= 0:\n",
        "              enemy.dead = True\n",
        "          else:\n",
        "            print(f'{self.name} не атакует, выносливость закончилась')\n",
        "    def defend(self):\n",
        "      if self.armor > 0:\n",
        "        self.armor -= random.randint(0, 10)\n",
        "        self.health -= random.randint(0, 20)\n",
        "      else:\n",
        "            self.health -= random.randint(10, 30)\n",
        "    def alive(self):\n",
        "      return self.health > 10 and not self.dead\n",
        "def fight (warrior1, warrior2):\n",
        "    round_num = 1\n",
        "    while warrior1.alive() and warrior2.alive():\n",
        "        print(f\"Раунд :{round_num} \")\n",
        "        print(f\"{warrior1.name}: Здоровье: {warrior1.health}, Броня: {warrior1.armor}, Выносливость: {warrior1.stamina}\")\n",
        "        print(f\"{warrior2.name}: Здоровье: {warrior2.health}, Броня: {warrior2.armor}, Выносливость: {warrior2.stamina}\")\n",
        "\n",
        "        action1 = random.choice([\"attack\", \"defend\"])\n",
        "        action2 = random.choice([\"attack\", \"defend\"])\n",
        "\n",
        "        print(f\"{warrior1.name} - {action1}, {warrior2.name} - {action2}\")\n",
        "\n",
        "        if action1 == \"attack\" and action2 == \"attack\":\n",
        "            warrior1.attack(warrior2)\n",
        "            warrior2.attack(warrior1)\n",
        "        elif action1 == \"attack\" and action2 == \"defend\":\n",
        "            warrior1.attack(warrior2)\n",
        "            warrior2.defend()\n",
        "        elif action1 == \"defend\" and action2 == \"attack\":\n",
        "            warrior1.defend()\n",
        "            warrior2.attack(warrior1)\n",
        "        else:\n",
        "            print(\"Оба воина защищаются, очки сохраняются\")\n",
        "        round_num += 1\n",
        "\n",
        "    if warrior1.alive():\n",
        "        print(f\"\\n{warrior1.name} одержал победу\")\n",
        "        while True:\n",
        "            choice = input(f\"Убить {warrior2.name}? Выберите: убить или помиловать \")\n",
        "            if choice == 'убить':\n",
        "                print(f\"Гладиатор {warrior2.name} убит\")\n",
        "                break\n",
        "            elif choice == 'помиловать':\n",
        "                print(f\"Гладиатор {warrior2.name} помилован\")\n",
        "                break\n",
        "\n",
        "    else:\n",
        "        print(f\"\\n{warrior2.name} одержал победу!\")\n",
        "        while True:\n",
        "            choice = input(f\"Убить {warrior1.name}? Выберите: убить или помиловать \")\n",
        "            if choice == 'убить':\n",
        "                print(f\"Гладиатор {warrior1.name} убит\")\n",
        "                break\n",
        "            elif choice == 'помиловать':\n",
        "                print(f\"Гладиатор {warrior1.name} помилован\")\n",
        "                break\n",
        "warrior1 = Voin(\"Воин 1\")\n",
        "warrior2 = Voin(\"Воин 2\")\n",
        "fight(warrior1, warrior2)\n",
        "\n",
        "\n",
        "\n",
        "\n"
      ],
      "metadata": {
        "id": "UnMKPG_LNMBi",
        "colab": {
          "base_uri": "https://localhost:8080/"
        },
        "outputId": "d69b0bad-2346-4d0d-abfd-0203b3b3264c"
      },
      "execution_count": null,
      "outputs": [
        {
          "output_type": "stream",
          "name": "stdout",
          "text": [
            "Раунд :1 \n",
            "Воин 1: Здоровье: 100, Броня: 100, Выносливость: 100\n",
            "Воин 2: Здоровье: 100, Броня: 100, Выносливость: 100\n",
            "Воин 1 - defend, Воин 2 - attack\n",
            "Раунд :2 \n",
            "Воин 1: Здоровье: 63, Броня: 86, Выносливость: 100\n",
            "Воин 2: Здоровье: 100, Броня: 100, Выносливость: 90\n",
            "Воин 1 - defend, Воин 2 - defend\n",
            "Оба воина защищаются, очки сохраняются\n",
            "Раунд :3 \n",
            "Воин 1: Здоровье: 63, Броня: 86, Выносливость: 100\n",
            "Воин 2: Здоровье: 100, Броня: 100, Выносливость: 90\n",
            "Воин 1 - defend, Воин 2 - attack\n",
            "Раунд :4 \n",
            "Воин 1: Здоровье: 47, Броня: 84, Выносливость: 100\n",
            "Воин 2: Здоровье: 100, Броня: 100, Выносливость: 80\n",
            "Воин 1 - defend, Воин 2 - attack\n",
            "Раунд :5 \n",
            "Воин 1: Здоровье: 17, Броня: 71, Выносливость: 100\n",
            "Воин 2: Здоровье: 100, Броня: 100, Выносливость: 70\n",
            "Воин 1 - defend, Воин 2 - attack\n",
            "\n",
            "Воин 2 одержал победу!\n",
            "Убить Воин 1? Выберите: убить или помиловать помиловать\n",
            "Гладиатор Воин 1 помилован\n"
          ]
        }
      ]
    }
  ]
}